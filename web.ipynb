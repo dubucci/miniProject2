{
 "cells": [
  {
   "cell_type": "code",
   "execution_count": 1,
   "metadata": {},
   "outputs": [],
   "source": [
    "from sklearn.ensemble import AdaBoostRegressor\n",
    "\n",
    "from sklearn.metrics import mean_squared_error as mse\n",
    "from sklearn.model_selection import train_test_split\n",
    "from sklearn.metrics import r2_score\n",
    "from pathlib import Path\n",
    "\n",
    "import numpy as np\n",
    "import pandas as pd\n",
    "import matplotlib.pyplot as plt\n",
    "\n",
    "import plotly.express as px\n",
    "import plotly.graph_objs as go\n",
    "\n",
    "import dash\n",
    "import dash_html_components as html\n",
    "import dash_core_components as dcc\n",
    "import dash_bootstrap_components as dbc\n",
    "from dash.dependencies import Input, Output, State\n"
   ]
  },
  {
   "cell_type": "code",
   "execution_count": 2,
   "metadata": {},
   "outputs": [
    {
     "name": "stderr",
     "output_type": "stream",
     "text": [
      "C:\\Users\\hrd\\Anaconda3\\lib\\site-packages\\sklearn\\utils\\validation.py:72: DataConversionWarning: A column-vector y was passed when a 1d array was expected. Please change the shape of y to (n_samples, ), for example using ravel().\n",
      "  return f(**kwargs)\n"
     ]
    },
    {
     "data": {
      "text/plain": [
       "AdaBoostRegressor(random_state=113)"
      ]
     },
     "execution_count": 2,
     "metadata": {},
     "output_type": "execute_result"
    }
   ],
   "source": [
    "data = Path('./after_data')\n",
    "data_list = list(data.glob('*'))\n",
    "df = pd.read_csv('./after_data/df_final_18.csv')\n",
    "\n",
    "## Data Preprocessing\n",
    "\n",
    "# 결측치, 이상치 제거\n",
    "df_drop = df.drop([3, 11, 19, 20, 27, 28]).reset_index().drop(['index'], axis=1)\n",
    "\n",
    "feature_cols = ['slight_cnt', 'cctv_cnt', 'fire_cnt', 'car_cnt',\n",
    "       'popu_num', 'popu_sx_rate', 'local_num', 'local_sx_rate',\n",
    "       'foreigner_all', 'foreigner_M', 'foreigner_F', 'bhood', 'nl_cnt']\n",
    "ind_col = ['crime_safety']\n",
    "\n",
    "X = df_drop[feature_cols]\n",
    "y = df_drop[ind_col]\n",
    "\n",
    "model = AdaBoostRegressor(base_estimator=None, n_estimators=50, random_state=113)\n",
    "model.fit(X,y)"
   ]
  },
  {
   "cell_type": "code",
   "execution_count": 3,
   "metadata": {},
   "outputs": [],
   "source": [
    "text_input = dbc.FormGroup(\n",
    "    [\n",
    "        dbc.Label(\"보안등개수\"),\n",
    "        dbc.Input(id = 'slight_cnt'),\n",
    "    ]\n",
    ")"
   ]
  },
  {
   "cell_type": "code",
   "execution_count": 4,
   "metadata": {},
   "outputs": [],
   "source": [
    "colors = {\n",
    "    'background': '#ffffff',\n",
    "    'text': '#111111'\n",
    "}\n",
    "title = html.Div(\n",
    "        style={'backgroundColor': colors['background'], 'padding':'10px'}, \n",
    "        children=[\n",
    "            html.H1(' '),\n",
    "            html.H1(\n",
    "                children='체감안전도 예측',\n",
    "                style={'textAlign': 'center', 'color': colors['text']}),\n",
    "            html.H1(' '),\n",
    "            html.Div(children='FORECASTING SAFETY', \n",
    "                     style={'textAlign': 'center', 'color': colors['text']}),\n",
    "            html.H1(' '),\n",
    "            html.H1(' ')\n",
    "        ])"
   ]
  },
  {
   "cell_type": "code",
   "execution_count": 5,
   "metadata": {},
   "outputs": [],
   "source": [
    "navbar = dbc.NavbarSimple(\n",
    "    children=[\n",
    "        dbc.NavItem(dbc.NavLink(\"Page 1\", href=\"#\")),\n",
    "        dbc.DropdownMenu(\n",
    "            children=[\n",
    "                dbc.DropdownMenuItem(\"More pages\", header=True),\n",
    "                dbc.DropdownMenuItem(\"Page 2\", href=\"#\"),\n",
    "                dbc.DropdownMenuItem(\"Page 3\", href=\"#\"),\n",
    "            ],\n",
    "            nav=True,\n",
    "            in_navbar=True,\n",
    "            label=\"More\",\n",
    "        ),\n",
    "    ],\n",
    "    brand=\"Safety from the Crime\",\n",
    "    brand_href=\"#\",\n",
    "    color=\"primary\",\n",
    "    dark=True,\n",
    ")"
   ]
  },
  {
   "cell_type": "code",
   "execution_count": 6,
   "metadata": {},
   "outputs": [],
   "source": [
    "cards = html.Div(\n",
    "    [\n",
    "        dbc.Card(\n",
    "            dbc.CardBody(\n",
    "                [\n",
    "                    html.Label('보안등개수'),\n",
    "                    dcc.Input(id=\"slight_cnt\"),\n",
    "                ]\n",
    "            ),\n",
    "        ),\n",
    "        dbc.Card(\n",
    "            dbc.CardBody(\n",
    "                [\n",
    "                    html.Label('CCTV개수'),\n",
    "                    dcc.Input(id=\"cctv_cnt\"),\n",
    "                ]\n",
    "            ),\n",
    "        ),\n",
    "        dbc.Card(\n",
    "            dbc.CardBody(\n",
    "                [\n",
    "                    html.Label('화재발생건수'),\n",
    "                    dcc.Input(id=\"fire_cnt\"),\n",
    "                ]\n",
    "            ),\n",
    "        ),\n",
    "        dbc.Card(\n",
    "            dbc.CardBody(\n",
    "                [\n",
    "                    html.Label('교통사고발생건수'),\n",
    "                    dcc.Input(id=\"car_cnt\"),\n",
    "                ]\n",
    "            ),\n",
    "        ),\n",
    "        dbc.Card(\n",
    "            dbc.CardBody(\n",
    "                [\n",
    "                    html.Label('인구수'),\n",
    "                    dcc.Input(id=\"popu_num\"),\n",
    "                ]\n",
    "            ),\n",
    "        ),\n",
    "        dbc.Card(\n",
    "            dbc.CardBody(\n",
    "                [\n",
    "                    html.Label('성비'),\n",
    "                    dcc.Input(id=\"popu_sx_rate\"),\n",
    "                ]\n",
    "            ),\n",
    "        ),\n",
    "        dbc.Card(\n",
    "            dbc.CardBody(\n",
    "                [\n",
    "                    html.Label('내국인수'),\n",
    "                    dcc.Input(id=\"local_num\"),\n",
    "                ]\n",
    "            ),\n",
    "        ),\n",
    "        dbc.Card(\n",
    "            dbc.CardBody(\n",
    "                [\n",
    "                    html.Label('내국인성비'),\n",
    "                    dcc.Input(id=\"local_sx_rate\")\n",
    "                ]\n",
    "            ),\n",
    "        ),\n",
    "        dbc.Card(\n",
    "            dbc.CardBody(\n",
    "                [\n",
    "                    html.Label('외국인수'),\n",
    "                    dcc.Input(id=\"foreigner_all\"),\n",
    "                ]\n",
    "            ),\n",
    "        ),\n",
    "        dbc.Card(\n",
    "            dbc.CardBody(\n",
    "                [\n",
    "                    html.Label('남성외국인수'),\n",
    "                    dcc.Input(id=\"foreigner_M\"),\n",
    "                ]\n",
    "            ),\n",
    "        ),\n",
    "        dbc.Card(\n",
    "            dbc.CardBody(\n",
    "                [\n",
    "                    html.Label('여성외국인수'),\n",
    "                    dcc.Input(id=\"foreigner_F\"),\n",
    "                ]\n",
    "            ),\n",
    "        ),\n",
    "        dbc.Card(\n",
    "            dbc.CardBody(\n",
    "                [\n",
    "                    html.Label('기초수급자수'),\n",
    "                    dcc.Input(id=\"bhood\"),\n",
    "                ]\n",
    "            ),\n",
    "        ),\n",
    "        dbc.Card(\n",
    "            dbc.CardBody(\n",
    "                [\n",
    "                    html.Label('유흥업소수'),\n",
    "                    dcc.Input(id=\"nl_cnt\"),\n",
    "                ]\n",
    "            ),\n",
    "        ),\n",
    "        dbc.Card(\n",
    "            dbc.CardBody(\n",
    "                [\n",
    "                    dbc.Button(\n",
    "                        '예측시작',\n",
    "                        id = 'button',\n",
    "                        n_clicks = 0\n",
    "                    ),\n",
    "                    html.Hr(),\n",
    "                    html.Div(\n",
    "                        [\n",
    "                            html.H6(id = 'crime_safety')\n",
    "                        ]\n",
    "                    )\n",
    "                ]\n",
    "            ),\n",
    "        )\n",
    "    ], style={'textAlign': 'center'}\n",
    ")\n"
   ]
  },
  {
   "cell_type": "code",
   "execution_count": 7,
   "metadata": {},
   "outputs": [],
   "source": [
    "app = dash.Dash(__name__, external_stylesheets=[dbc.themes.BOOTSTRAP])\n",
    "app.layout = html.Div(\n",
    "    [\n",
    "        title,\n",
    "        navbar,\n",
    "        cards\n",
    "    ]\n",
    ")"
   ]
  },
  {
   "cell_type": "code",
   "execution_count": 8,
   "metadata": {},
   "outputs": [],
   "source": [
    "@app.callback(\n",
    "    Output('crime_safety','children'),\n",
    "    Input('button','n_clicks'),\n",
    "    State('slight_cnt','value'),\n",
    "    State('cctv_cnt','value'),\n",
    "    State('fire_cnt','value'),\n",
    "    State('car_cnt','value'),\n",
    "    State('popu_num','value'),\n",
    "    State('popu_sx_rate','value'),\n",
    "    State('local_num','value'),\n",
    "    State('local_sx_rate','value'),\n",
    "    State('foreigner_all','value'),\n",
    "    State('foreigner_M','value'),\n",
    "    State('foreigner_F','value'),\n",
    "    State('bhood','value'),\n",
    "    State('nl_cnt','value'),\n",
    ")\n",
    "def predict_crime_safety(n,val1,val2,val3,val4,val5,\n",
    "                         val6,val7,val8,val9,val10,val11,val12,val13):\n",
    "    x = [[val1,val2,val3,val4,val5,\n",
    "                         val6,val7,val8,val9,val10,val11,val12,val13]]\n",
    "    result = model.predict(x)\n",
    "    result = str(result[0])\n",
    "    return html.Div(f'안전도는 {result} 입니다.')"
   ]
  },
  {
   "cell_type": "code",
   "execution_count": null,
   "metadata": {},
   "outputs": [
    {
     "name": "stdout",
     "output_type": "stream",
     "text": [
      "Dash is running on http://127.0.0.1:7777/\n",
      "\n",
      " * Serving Flask app \"__main__\" (lazy loading)\n",
      " * Environment: production\n",
      "   WARNING: This is a development server. Do not use it in a production deployment.\n",
      "   Use a production WSGI server instead.\n",
      " * Debug mode: off\n"
     ]
    },
    {
     "name": "stderr",
     "output_type": "stream",
     "text": [
      " * Running on http://127.0.0.1:7777/ (Press CTRL+C to quit)\n",
      "127.0.0.1 - - [06/Aug/2021 13:16:43] \"\u001b[37mGET / HTTP/1.1\u001b[0m\" 200 -\n",
      "127.0.0.1 - - [06/Aug/2021 13:16:44] \"\u001b[37mGET /_dash-layout HTTP/1.1\u001b[0m\" 200 -\n",
      "127.0.0.1 - - [06/Aug/2021 13:16:44] \"\u001b[37mGET /_dash-dependencies HTTP/1.1\u001b[0m\" 200 -\n"
     ]
    },
    {
     "name": "stdout",
     "output_type": "stream",
     "text": [
      "Exception on /_dash-update-component [POST]\n",
      "Traceback (most recent call last):\n",
      "  File \"C:\\Users\\hrd\\Anaconda3\\lib\\site-packages\\flask\\app.py\", line 2447, in wsgi_app\n",
      "    response = self.full_dispatch_request()\n",
      "  File \"C:\\Users\\hrd\\Anaconda3\\lib\\site-packages\\flask\\app.py\", line 1952, in full_dispatch_request\n",
      "    rv = self.handle_user_exception(e)\n",
      "  File \"C:\\Users\\hrd\\Anaconda3\\lib\\site-packages\\flask\\app.py\", line 1821, in handle_user_exception\n",
      "    reraise(exc_type, exc_value, tb)\n",
      "  File \"C:\\Users\\hrd\\Anaconda3\\lib\\site-packages\\flask\\_compat.py\", line 39, in reraise\n",
      "    raise value\n",
      "  File \"C:\\Users\\hrd\\Anaconda3\\lib\\site-packages\\flask\\app.py\", line 1950, in full_dispatch_request\n",
      "    rv = self.dispatch_request()\n",
      "  File \"C:\\Users\\hrd\\Anaconda3\\lib\\site-packages\\flask\\app.py\", line 1936, in dispatch_request\n",
      "    return self.view_functions[rule.endpoint](**req.view_args)\n",
      "  File \"C:\\Users\\hrd\\Anaconda3\\lib\\site-packages\\dash\\dash.py\", line 1078, in dispatch\n",
      "    response.set_data(func(*args, outputs_list=outputs_list))\n",
      "  File \"C:\\Users\\hrd\\Anaconda3\\lib\\site-packages\\dash\\dash.py\", line 1009, in add_context\n",
      "    output_value = func(*args, **kwargs)  # %% callback invoked %%\n",
      "  File \"<ipython-input-8-30d8d1b74dd1>\", line 22, in predict_crime_safety\n",
      "    result = model.predict(x)\n",
      "  File \"C:\\Users\\hrd\\Anaconda3\\lib\\site-packages\\sklearn\\ensemble\\_weight_boosting.py\", line 1148, in predict\n",
      "    return self._get_median_predict(X, len(self.estimators_))\n",
      "  File \"C:\\Users\\hrd\\Anaconda3\\lib\\site-packages\\sklearn\\ensemble\\_weight_boosting.py\", line 1112, in _get_median_predict\n",
      "    predictions = np.array([\n",
      "  File \"C:\\Users\\hrd\\Anaconda3\\lib\\site-packages\\sklearn\\ensemble\\_weight_boosting.py\", line 1113, in <listcomp>\n",
      "    est.predict(X) for est in self.estimators_[:limit]]).T\n",
      "  File \"C:\\Users\\hrd\\Anaconda3\\lib\\site-packages\\sklearn\\tree\\_classes.py\", line 427, in predict\n",
      "    X = self._validate_X_predict(X, check_input)\n",
      "  File \"C:\\Users\\hrd\\Anaconda3\\lib\\site-packages\\sklearn\\tree\\_classes.py\", line 388, in _validate_X_predict\n",
      "    X = check_array(X, dtype=DTYPE, accept_sparse=\"csr\")\n",
      "  File \"C:\\Users\\hrd\\Anaconda3\\lib\\site-packages\\sklearn\\utils\\validation.py\", line 72, in inner_f\n",
      "    return f(**kwargs)\n",
      "  File \"C:\\Users\\hrd\\Anaconda3\\lib\\site-packages\\sklearn\\utils\\validation.py\", line 644, in check_array\n",
      "    _assert_all_finite(array,\n",
      "  File \"C:\\Users\\hrd\\Anaconda3\\lib\\site-packages\\sklearn\\utils\\validation.py\", line 96, in _assert_all_finite\n",
      "    raise ValueError(\n",
      "ValueError: Input contains NaN, infinity or a value too large for dtype('float32').\n"
     ]
    },
    {
     "name": "stderr",
     "output_type": "stream",
     "text": [
      "127.0.0.1 - - [06/Aug/2021 13:16:44] \"\u001b[35m\u001b[1mPOST /_dash-update-component HTTP/1.1\u001b[0m\" 500 -\n",
      "127.0.0.1 - - [06/Aug/2021 13:17:21] \"\u001b[37mPOST /_dash-update-component HTTP/1.1\u001b[0m\" 200 -\n",
      "127.0.0.1 - - [06/Aug/2021 13:20:38] \"\u001b[37mGET / HTTP/1.1\u001b[0m\" 200 -\n",
      "127.0.0.1 - - [06/Aug/2021 13:20:38] \"\u001b[37mGET /_dash-layout HTTP/1.1\u001b[0m\" 200 -\n",
      "127.0.0.1 - - [06/Aug/2021 13:20:38] \"\u001b[37mGET /_dash-dependencies HTTP/1.1\u001b[0m\" 200 -\n"
     ]
    },
    {
     "name": "stdout",
     "output_type": "stream",
     "text": [
      "Exception on /_dash-update-component [POST]\n",
      "Traceback (most recent call last):\n",
      "  File \"C:\\Users\\hrd\\Anaconda3\\lib\\site-packages\\flask\\app.py\", line 2447, in wsgi_app\n",
      "    response = self.full_dispatch_request()\n",
      "  File \"C:\\Users\\hrd\\Anaconda3\\lib\\site-packages\\flask\\app.py\", line 1952, in full_dispatch_request\n",
      "    rv = self.handle_user_exception(e)\n",
      "  File \"C:\\Users\\hrd\\Anaconda3\\lib\\site-packages\\flask\\app.py\", line 1821, in handle_user_exception\n",
      "    reraise(exc_type, exc_value, tb)\n",
      "  File \"C:\\Users\\hrd\\Anaconda3\\lib\\site-packages\\flask\\_compat.py\", line 39, in reraise\n",
      "    raise value\n",
      "  File \"C:\\Users\\hrd\\Anaconda3\\lib\\site-packages\\flask\\app.py\", line 1950, in full_dispatch_request\n",
      "    rv = self.dispatch_request()\n",
      "  File \"C:\\Users\\hrd\\Anaconda3\\lib\\site-packages\\flask\\app.py\", line 1936, in dispatch_request\n",
      "    return self.view_functions[rule.endpoint](**req.view_args)\n",
      "  File \"C:\\Users\\hrd\\Anaconda3\\lib\\site-packages\\dash\\dash.py\", line 1078, in dispatch\n",
      "    response.set_data(func(*args, outputs_list=outputs_list))\n",
      "  File \"C:\\Users\\hrd\\Anaconda3\\lib\\site-packages\\dash\\dash.py\", line 1009, in add_context\n",
      "    output_value = func(*args, **kwargs)  # %% callback invoked %%\n",
      "  File \"<ipython-input-8-30d8d1b74dd1>\", line 22, in predict_crime_safety\n",
      "    result = model.predict(x)\n",
      "  File \"C:\\Users\\hrd\\Anaconda3\\lib\\site-packages\\sklearn\\ensemble\\_weight_boosting.py\", line 1148, in predict\n",
      "    return self._get_median_predict(X, len(self.estimators_))\n",
      "  File \"C:\\Users\\hrd\\Anaconda3\\lib\\site-packages\\sklearn\\ensemble\\_weight_boosting.py\", line 1112, in _get_median_predict\n",
      "    predictions = np.array([\n",
      "  File \"C:\\Users\\hrd\\Anaconda3\\lib\\site-packages\\sklearn\\ensemble\\_weight_boosting.py\", line 1113, in <listcomp>\n",
      "    est.predict(X) for est in self.estimators_[:limit]]).T\n",
      "  File \"C:\\Users\\hrd\\Anaconda3\\lib\\site-packages\\sklearn\\tree\\_classes.py\", line 427, in predict\n",
      "    X = self._validate_X_predict(X, check_input)\n",
      "  File \"C:\\Users\\hrd\\Anaconda3\\lib\\site-packages\\sklearn\\tree\\_classes.py\", line 388, in _validate_X_predict\n",
      "    X = check_array(X, dtype=DTYPE, accept_sparse=\"csr\")\n",
      "  File \"C:\\Users\\hrd\\Anaconda3\\lib\\site-packages\\sklearn\\utils\\validation.py\", line 72, in inner_f\n",
      "    return f(**kwargs)\n",
      "  File \"C:\\Users\\hrd\\Anaconda3\\lib\\site-packages\\sklearn\\utils\\validation.py\", line 644, in check_array\n",
      "    _assert_all_finite(array,\n",
      "  File \"C:\\Users\\hrd\\Anaconda3\\lib\\site-packages\\sklearn\\utils\\validation.py\", line 96, in _assert_all_finite\n",
      "    raise ValueError(\n",
      "ValueError: Input contains NaN, infinity or a value too large for dtype('float32').\n"
     ]
    },
    {
     "name": "stderr",
     "output_type": "stream",
     "text": [
      "127.0.0.1 - - [06/Aug/2021 13:20:39] \"\u001b[35m\u001b[1mPOST /_dash-update-component HTTP/1.1\u001b[0m\" 500 -\n",
      "127.0.0.1 - - [06/Aug/2021 15:52:50] \"\u001b[37mPOST /_dash-update-component HTTP/1.1\u001b[0m\" 200 -\n"
     ]
    }
   ],
   "source": [
    "app.run_server(port='7777')"
   ]
  },
  {
   "cell_type": "code",
   "execution_count": null,
   "metadata": {},
   "outputs": [],
   "source": []
  },
  {
   "cell_type": "code",
   "execution_count": 18,
   "metadata": {},
   "outputs": [],
   "source": [
    "import numpy as np\n",
    "np.random.seed(2021)"
   ]
  },
  {
   "cell_type": "code",
   "execution_count": 19,
   "metadata": {},
   "outputs": [
    {
     "name": "stdout",
     "output_type": "stream",
     "text": [
      "0.6059782788074047\n",
      "0.7333693611934982\n",
      "0.13894715672839875\n",
      "0.31267308385468695\n",
      "0.9972432813403187\n"
     ]
    }
   ],
   "source": [
    "# np.random.seed(2021)\n",
    "print(np.random.random())\n",
    "print(np.random.random())\n",
    "print(np.random.random())\n",
    "print(np.random.random())\n",
    "print(np.random.random())"
   ]
  },
  {
   "cell_type": "code",
   "execution_count": 21,
   "metadata": {},
   "outputs": [
    {
     "name": "stdout",
     "output_type": "stream",
     "text": [
      "0.6059782788074047\n",
      "0.7333693611934982\n",
      "0.13894715672839875\n",
      "0.31267308385468695\n",
      "0.9972432813403187\n"
     ]
    }
   ],
   "source": [
    "np.random.seed(2021)\n",
    "print(np.random.random())\n",
    "print(np.random.random())\n",
    "print(np.random.random())\n",
    "print(np.random.random())\n",
    "print(np.random.random())"
   ]
  },
  {
   "cell_type": "code",
   "execution_count": null,
   "metadata": {},
   "outputs": [],
   "source": []
  }
 ],
 "metadata": {
  "kernelspec": {
   "display_name": "Python 3",
   "language": "python",
   "name": "python3"
  },
  "language_info": {
   "codemirror_mode": {
    "name": "ipython",
    "version": 3
   },
   "file_extension": ".py",
   "mimetype": "text/x-python",
   "name": "python",
   "nbconvert_exporter": "python",
   "pygments_lexer": "ipython3",
   "version": "3.8.5"
  }
 },
 "nbformat": 4,
 "nbformat_minor": 4
}
