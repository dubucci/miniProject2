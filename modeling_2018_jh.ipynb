{
 "cells": [
  {
   "cell_type": "markdown",
   "metadata": {},
   "source": [
    "## Setting Library"
   ]
  },
  {
   "cell_type": "code",
   "execution_count": 1,
   "metadata": {},
   "outputs": [],
   "source": [
    "from sklearn.linear_model import Lasso, LinearRegression \n",
    "from sklearn.svm import SVR \n",
    "from sklearn.ensemble import RandomForestRegressor \n",
    "from sklearn.tree import DecisionTreeRegressor \n",
    "from sklearn.ensemble import AdaBoostRegressor\n",
    "\n",
    "from sklearn.metrics import mean_squared_error as mse\n",
    "from sklearn.metrics import r2_score\n",
    "from sklearn.model_selection import train_test_split\n",
    "\n",
    "\n",
    "import numpy as np\n",
    "import pandas as pd\n",
    "import matplotlib.pyplot as plt\n",
    "\n",
    "from pathlib import Path"
   ]
  },
  {
   "cell_type": "markdown",
   "metadata": {},
   "source": [
    "### Load Data"
   ]
  },
  {
   "cell_type": "code",
   "execution_count": 2,
   "metadata": {},
   "outputs": [
    {
     "data": {
      "text/plain": [
       "[WindowsPath('after_data/df_final_17.csv'),\n",
       " WindowsPath('after_data/df_final_18.csv'),\n",
       " WindowsPath('after_data/df_final_19.csv'),\n",
       " WindowsPath('after_data/df_final_20.csv')]"
      ]
     },
     "execution_count": 2,
     "metadata": {},
     "output_type": "execute_result"
    }
   ],
   "source": [
    "data = Path('./after_data')\n",
    "data_list = list(data.glob('*'))\n",
    "data_list"
   ]
  },
  {
   "cell_type": "markdown",
   "metadata": {},
   "source": [
    "## Data Preprocessing"
   ]
  },
  {
   "cell_type": "code",
   "execution_count": 5,
   "metadata": {},
   "outputs": [],
   "source": [
    "df = pd.read_csv(data_list[1])"
   ]
  },
  {
   "cell_type": "code",
   "execution_count": 6,
   "metadata": {
    "scrolled": true
   },
   "outputs": [
    {
     "data": {
      "text/html": [
       "<div>\n",
       "<style scoped>\n",
       "    .dataframe tbody tr th:only-of-type {\n",
       "        vertical-align: middle;\n",
       "    }\n",
       "\n",
       "    .dataframe tbody tr th {\n",
       "        vertical-align: top;\n",
       "    }\n",
       "\n",
       "    .dataframe thead th {\n",
       "        text-align: right;\n",
       "    }\n",
       "</style>\n",
       "<table border=\"1\" class=\"dataframe\">\n",
       "  <thead>\n",
       "    <tr style=\"text-align: right;\">\n",
       "      <th></th>\n",
       "      <th>sido</th>\n",
       "      <th>sgg</th>\n",
       "      <th>ps</th>\n",
       "      <th>tot_f_safety</th>\n",
       "      <th>dept_safety</th>\n",
       "      <th>crime_safety</th>\n",
       "      <th>rob_satety_q1</th>\n",
       "      <th>mur_safety_q2</th>\n",
       "      <th>ta_safety_q3</th>\n",
       "      <th>raw_odder_q4</th>\n",
       "      <th>...</th>\n",
       "      <th>car_cnt</th>\n",
       "      <th>popu_num</th>\n",
       "      <th>popu_sx_rate</th>\n",
       "      <th>local_num</th>\n",
       "      <th>local_sx_rate</th>\n",
       "      <th>foreigner_all</th>\n",
       "      <th>foreigner_M</th>\n",
       "      <th>foreigner_F</th>\n",
       "      <th>bhood</th>\n",
       "      <th>nl_cnt</th>\n",
       "    </tr>\n",
       "  </thead>\n",
       "  <tbody>\n",
       "    <tr>\n",
       "      <th>0</th>\n",
       "      <td>경기도</td>\n",
       "      <td>수원시권선구</td>\n",
       "      <td>경기남부수원서부</td>\n",
       "      <td>70.60</td>\n",
       "      <td>70.45</td>\n",
       "      <td>74.45</td>\n",
       "      <td>72.90</td>\n",
       "      <td>75.95</td>\n",
       "      <td>69.20</td>\n",
       "      <td>67.30</td>\n",
       "      <td>...</td>\n",
       "      <td>108</td>\n",
       "      <td>379834</td>\n",
       "      <td>101.9</td>\n",
       "      <td>365133</td>\n",
       "      <td>101.8</td>\n",
       "      <td>12741</td>\n",
       "      <td>6569</td>\n",
       "      <td>6172</td>\n",
       "      <td>53741</td>\n",
       "      <td>57</td>\n",
       "    </tr>\n",
       "    <tr>\n",
       "      <th>1</th>\n",
       "      <td>경기도</td>\n",
       "      <td>수원시영통구</td>\n",
       "      <td>경기남부수원남부</td>\n",
       "      <td>71.55</td>\n",
       "      <td>71.10</td>\n",
       "      <td>78.00</td>\n",
       "      <td>77.35</td>\n",
       "      <td>78.55</td>\n",
       "      <td>64.90</td>\n",
       "      <td>69.50</td>\n",
       "      <td>...</td>\n",
       "      <td>89</td>\n",
       "      <td>355991</td>\n",
       "      <td>102.3</td>\n",
       "      <td>346809</td>\n",
       "      <td>101.9</td>\n",
       "      <td>8508</td>\n",
       "      <td>4648</td>\n",
       "      <td>3860</td>\n",
       "      <td>53741</td>\n",
       "      <td>38</td>\n",
       "    </tr>\n",
       "    <tr>\n",
       "      <th>2</th>\n",
       "      <td>경기도</td>\n",
       "      <td>수원시장안구</td>\n",
       "      <td>경기남부수원중부</td>\n",
       "      <td>70.40</td>\n",
       "      <td>70.25</td>\n",
       "      <td>75.05</td>\n",
       "      <td>73.70</td>\n",
       "      <td>76.35</td>\n",
       "      <td>66.65</td>\n",
       "      <td>68.55</td>\n",
       "      <td>...</td>\n",
       "      <td>92</td>\n",
       "      <td>288719</td>\n",
       "      <td>102.3</td>\n",
       "      <td>278897</td>\n",
       "      <td>101.9</td>\n",
       "      <td>8435</td>\n",
       "      <td>4467</td>\n",
       "      <td>3968</td>\n",
       "      <td>53741</td>\n",
       "      <td>121</td>\n",
       "    </tr>\n",
       "    <tr>\n",
       "      <th>3</th>\n",
       "      <td>경상남도</td>\n",
       "      <td>진주시</td>\n",
       "      <td>경남진주</td>\n",
       "      <td>72.80</td>\n",
       "      <td>72.55</td>\n",
       "      <td>78.95</td>\n",
       "      <td>78.10</td>\n",
       "      <td>79.75</td>\n",
       "      <td>68.70</td>\n",
       "      <td>69.25</td>\n",
       "      <td>...</td>\n",
       "      <td>234</td>\n",
       "      <td>352333</td>\n",
       "      <td>100.1</td>\n",
       "      <td>345841</td>\n",
       "      <td>99.2</td>\n",
       "      <td>5638</td>\n",
       "      <td>3464</td>\n",
       "      <td>2174</td>\n",
       "      <td>138488</td>\n",
       "      <td>347</td>\n",
       "    </tr>\n",
       "    <tr>\n",
       "      <th>4</th>\n",
       "      <td>경상남도</td>\n",
       "      <td>창원시마산합포구</td>\n",
       "      <td>경남마산중부</td>\n",
       "      <td>72.35</td>\n",
       "      <td>72.20</td>\n",
       "      <td>79.10</td>\n",
       "      <td>78.15</td>\n",
       "      <td>79.95</td>\n",
       "      <td>66.85</td>\n",
       "      <td>69.75</td>\n",
       "      <td>...</td>\n",
       "      <td>105</td>\n",
       "      <td>178431</td>\n",
       "      <td>99.7</td>\n",
       "      <td>175558</td>\n",
       "      <td>99.0</td>\n",
       "      <td>2583</td>\n",
       "      <td>1565</td>\n",
       "      <td>1018</td>\n",
       "      <td>54902</td>\n",
       "      <td>528</td>\n",
       "    </tr>\n",
       "  </tbody>\n",
       "</table>\n",
       "<p>5 rows × 24 columns</p>\n",
       "</div>"
      ],
      "text/plain": [
       "   sido       sgg        ps  tot_f_safety  dept_safety  crime_safety  \\\n",
       "0   경기도    수원시권선구  경기남부수원서부         70.60        70.45         74.45   \n",
       "1   경기도    수원시영통구  경기남부수원남부         71.55        71.10         78.00   \n",
       "2   경기도    수원시장안구  경기남부수원중부         70.40        70.25         75.05   \n",
       "3  경상남도       진주시      경남진주         72.80        72.55         78.95   \n",
       "4  경상남도  창원시마산합포구    경남마산중부         72.35        72.20         79.10   \n",
       "\n",
       "   rob_satety_q1  mur_safety_q2  ta_safety_q3  raw_odder_q4  ...  car_cnt  \\\n",
       "0          72.90          75.95         69.20         67.30  ...      108   \n",
       "1          77.35          78.55         64.90         69.50  ...       89   \n",
       "2          73.70          76.35         66.65         68.55  ...       92   \n",
       "3          78.10          79.75         68.70         69.25  ...      234   \n",
       "4          78.15          79.95         66.85         69.75  ...      105   \n",
       "\n",
       "   popu_num  popu_sx_rate  local_num  local_sx_rate  foreigner_all  \\\n",
       "0    379834         101.9     365133          101.8          12741   \n",
       "1    355991         102.3     346809          101.9           8508   \n",
       "2    288719         102.3     278897          101.9           8435   \n",
       "3    352333         100.1     345841           99.2           5638   \n",
       "4    178431          99.7     175558           99.0           2583   \n",
       "\n",
       "   foreigner_M  foreigner_F   bhood  nl_cnt  \n",
       "0         6569         6172   53741      57  \n",
       "1         4648         3860   53741      38  \n",
       "2         4467         3968   53741     121  \n",
       "3         3464         2174  138488     347  \n",
       "4         1565         1018   54902     528  \n",
       "\n",
       "[5 rows x 24 columns]"
      ]
     },
     "execution_count": 6,
     "metadata": {},
     "output_type": "execute_result"
    }
   ],
   "source": [
    "# 결측치, 이상치 제거\n",
    "df_drop = df.drop([3, 11, 19, 20, 27, 28]).reset_index().drop(['index'], axis=1)\n",
    "df_drop.head()"
   ]
  },
  {
   "cell_type": "markdown",
   "metadata": {},
   "source": [
    "### Data Split"
   ]
  },
  {
   "cell_type": "markdown",
   "metadata": {},
   "source": [
    "##### Train Data"
   ]
  },
  {
   "cell_type": "code",
   "execution_count": 7,
   "metadata": {},
   "outputs": [
    {
     "data": {
      "text/plain": [
       "Index(['sido', 'sgg', 'ps', 'tot_f_safety', 'dept_safety', 'crime_safety',\n",
       "       'rob_satety_q1', 'mur_safety_q2', 'ta_safety_q3', 'raw_odder_q4',\n",
       "       'overall_q5', 'slight_cnt', 'cctv_cnt', 'fire_cnt', 'car_cnt',\n",
       "       'popu_num', 'popu_sx_rate', 'local_num', 'local_sx_rate',\n",
       "       'foreigner_all', 'foreigner_M', 'foreigner_F', 'bhood', 'nl_cnt'],\n",
       "      dtype='object')"
      ]
     },
     "execution_count": 7,
     "metadata": {},
     "output_type": "execute_result"
    }
   ],
   "source": [
    "df_drop.columns"
   ]
  },
  {
   "cell_type": "code",
   "execution_count": 8,
   "metadata": {},
   "outputs": [],
   "source": [
    "feature_cols = ['slight_cnt', 'cctv_cnt', 'fire_cnt', 'car_cnt',\n",
    "       'popu_num', 'popu_sx_rate', 'local_num', 'local_sx_rate',\n",
    "       'foreigner_all', 'foreigner_M', 'foreigner_F', 'bhood', 'nl_cnt']\n",
    "ind_col = ['crime_safety']"
   ]
  },
  {
   "cell_type": "code",
   "execution_count": 9,
   "metadata": {},
   "outputs": [],
   "source": [
    "X = df_drop[feature_cols]\n",
    "y = df_drop[ind_col]"
   ]
  },
  {
   "cell_type": "markdown",
   "metadata": {},
   "source": [
    "##### Test Data"
   ]
  },
  {
   "cell_type": "code",
   "execution_count": 10,
   "metadata": {},
   "outputs": [],
   "source": [
    "X_train, X_test, Y_train, Y_test = train_test_split(X, \n",
    "                                                    y, \n",
    "                                                    test_size = 0.2, \n",
    "                                                    random_state = 156)"
   ]
  },
  {
   "cell_type": "markdown",
   "metadata": {},
   "source": [
    "## Bulid Model"
   ]
  },
  {
   "cell_type": "markdown",
   "metadata": {},
   "source": [
    "### LinearRegression"
   ]
  },
  {
   "cell_type": "code",
   "execution_count": 11,
   "metadata": {
    "scrolled": true
   },
   "outputs": [
    {
     "name": "stdout",
     "output_type": "stream",
     "text": [
      "Y-intercept:  [125.68914373]\n",
      "Coefficients:  [[-0.    0.   -0.    0.01 -0.   -4.5   0.    4.02  0.    0.   -0.   -0.\n",
      "  -0.  ]]\n",
      "test R2-Score  -4.2033488020564675\n"
     ]
    },
    {
     "data": {
      "text/plain": [
       "<BarContainer object of 13 artists>"
      ]
     },
     "execution_count": 11,
     "metadata": {},
     "output_type": "execute_result"
    },
    {
     "data": {
      "image/png": "[encoded data removed]",
      "text/plain": [
       "<Figure size 1080x720 with 1 Axes>"
      ]
     },
     "metadata": {
      "needs_background": "light"
     },
     "output_type": "display_data"
    }
   ],
   "source": [
    "# LinearRegression 모델 생성\n",
    "lr_model = LinearRegression()\n",
    "lr_model.fit(X_train, Y_train)\n",
    "\n",
    "Y_predict = lr_model.predict(X_test)\n",
    "\n",
    "# Evaluate the performance of the model. R2\n",
    "R2 = r2_score(Y_test, Y_predict)\n",
    "\n",
    "# Print out the model and the performance!!!\n",
    "print('Y-intercept: ', lr_model.intercept_)\n",
    "print('Coefficients: ', np.round(lr_model.coef_, 2))\n",
    "print('test R2-Score ', R2)\n",
    "\n",
    "plt.figure(figsize=(15,10))\n",
    "plt.bar(X.columns, np.abs(lr_model.coef_.flatten()))"
   ]
  },
  {
   "cell_type": "markdown",
   "metadata": {},
   "source": [
    "### Lasso"
   ]
  },
  {
   "cell_type": "code",
   "execution_count": 12,
   "metadata": {
    "scrolled": true
   },
   "outputs": [
    {
     "name": "stderr",
     "output_type": "stream",
     "text": [
      "C:\\Users\\hrd\\Anaconda3\\lib\\site-packages\\sklearn\\linear_model\\_coordinate_descent.py:529: ConvergenceWarning: Objective did not converge. You might want to increase the number of iterations. Duality gap: 53.25788811526189, tolerance: 0.02628405575000001\n",
      "  model = cd_fast.enet_coordinate_descent(\n"
     ]
    },
    {
     "data": {
      "text/plain": [
       "<BarContainer object of 13 artists>"
      ]
     },
     "execution_count": 12,
     "metadata": {},
     "output_type": "execute_result"
    },
    {
     "data": {
      "image/png": "[encoded data removed]",
      "text/plain": [
       "<Figure size 1080x720 with 1 Axes>"
      ]
     },
     "metadata": {
      "needs_background": "light"
     },
     "output_type": "display_data"
    }
   ],
   "source": [
    "# Lasso\n",
    "\n",
    "ls_model = Lasso()\n",
    "ls_model.fit(X,y)\n",
    "\n",
    "plt.figure(figsize=(15,10))\n",
    "plt.bar(X.columns, np.abs(ls_model.coef_.flatten()))\n",
    "# plt.xticks(rotation=45)"
   ]
  },
  {
   "cell_type": "markdown",
   "metadata": {},
   "source": [
    "### RandomForestRegressor"
   ]
  },
  {
   "cell_type": "code",
   "execution_count": 13,
   "metadata": {
    "scrolled": true
   },
   "outputs": [
    {
     "name": "stdout",
     "output_type": "stream",
     "text": [
      "test R2-Score  0.26428600802548463\n"
     ]
    },
    {
     "name": "stderr",
     "output_type": "stream",
     "text": [
      "<ipython-input-13-15349484beff>:5: DataConversionWarning: A column-vector y was passed when a 1d array was expected. Please change the shape of y to (n_samples,), for example using ravel().\n",
      "  rf_model.fit(X_train, Y_train)\n"
     ]
    },
    {
     "data": {
      "text/plain": [
       "<BarContainer object of 13 artists>"
      ]
     },
     "execution_count": 13,
     "metadata": {},
     "output_type": "execute_result"
    },
    {
     "data": {
      "image/png": "[encoded data removed]",
      "text/plain": [
       "<Figure size 1080x720 with 1 Axes>"
      ]
     },
     "metadata": {
      "needs_background": "light"
     },
     "output_type": "display_data"
    }
   ],
   "source": [
    "# RandomForestRegressor\n",
    "rf_model = RandomForestRegressor()\n",
    "# rf_model.fit(X,y)\n",
    "\n",
    "rf_model.fit(X_train, Y_train)\n",
    "Y_predict = rf_model.predict(X_test)\n",
    "\n",
    "# Evaluate the performance of the model! R2\n",
    "R2 = r2_score(Y_test, Y_predict)\n",
    "\n",
    "# Print out the model and the performance!!!\n",
    "# print('Y-intercept: ', rf_model.intercept_)\n",
    "# print('Coefficients: ', np.round(rf_model.coef_, 2))\n",
    "print('test R2-Score ', R2)\n",
    "\n",
    "plt.figure(figsize=(15,10))\n",
    "plt.style.use('ggplot')\n",
    "plt.bar(X.columns, rf_model.feature_importances_) # 확률값"
   ]
  },
  {
   "cell_type": "markdown",
   "metadata": {},
   "source": [
    "### SVR"
   ]
  },
  {
   "cell_type": "code",
   "execution_count": 14,
   "metadata": {
    "scrolled": false
   },
   "outputs": [
    {
     "name": "stderr",
     "output_type": "stream",
     "text": [
      "C:\\Users\\hrd\\Anaconda3\\lib\\site-packages\\sklearn\\utils\\validation.py:72: DataConversionWarning: A column-vector y was passed when a 1d array was expected. Please change the shape of y to (n_samples, ), for example using ravel().\n",
      "  return f(**kwargs)\n"
     ]
    },
    {
     "data": {
      "text/plain": [
       "SVR(C=10)"
      ]
     },
     "execution_count": 14,
     "metadata": {},
     "output_type": "execute_result"
    }
   ],
   "source": [
    "# SVR \n",
    "\n",
    "sv_model = SVR(kernel='rbf',C=10)\n",
    "sv_model.fit(X,y)\n",
    "\n",
    "# plt.figure(figsize=(15,10))\n",
    "# plt.bar(X.columns, np.abs(sv_model.coef_.flatten()))\n",
    "# plt.xticks(rotation=45)"
   ]
  },
  {
   "cell_type": "markdown",
   "metadata": {},
   "source": [
    "### AdaBoost"
   ]
  },
  {
   "cell_type": "code",
   "execution_count": 16,
   "metadata": {},
   "outputs": [],
   "source": [
    "def rmse(x,y):\n",
    "    return np.sqrt(mse(x,y))"
   ]
  },
  {
   "cell_type": "code",
   "execution_count": 18,
   "metadata": {},
   "outputs": [
    {
     "name": "stdout",
     "output_type": "stream",
     "text": [
      "train_R2:  0.9476648832308444\n",
      "test_R2 : 0.8516730750155029\n",
      "test_RMSE:  0.7394320974526338\n"
     ]
    },
    {
     "name": "stderr",
     "output_type": "stream",
     "text": [
      "C:\\Users\\hrd\\Anaconda3\\lib\\site-packages\\sklearn\\utils\\validation.py:72: DataConversionWarning: A column-vector y was passed when a 1d array was expected. Please change the shape of y to (n_samples, ), for example using ravel().\n",
      "  return f(**kwargs)\n"
     ]
    },
    {
     "data": {
      "text/plain": [
       "<BarContainer object of 13 artists>"
      ]
     },
     "execution_count": 18,
     "metadata": {},
     "output_type": "execute_result"
    },
    {
     "data": {
      "image/png": "[encoded data removed]",
      "text/plain": [
       "<Figure size 1080x720 with 1 Axes>"
      ]
     },
     "metadata": {},
     "output_type": "display_data"
    }
   ],
   "source": [
    "# AdaBoost\n",
    "\n",
    "# model = AdaBoostRegressor(base_estimator='linear')\n",
    "ab_model = AdaBoostRegressor(base_estimator=None, n_estimators=50, random_state=113)\n",
    "ab_model.fit(X_train, Y_train)\n",
    "print('train_R2: ', ab_model.score(X_train, Y_train)) #\n",
    "\n",
    "# X 데이터로 y 예측 \n",
    "y_predict = ab_model.predict(X_train)\n",
    "\n",
    "## X_test로 y 예측\n",
    "y_predict2 = ab_model.predict(X_test)\n",
    "\n",
    "##### 모델 평가\n",
    "print('test_R2 :', ab_model.score(X_test, Y_test))\n",
    "print('test_RMSE: ', rmse(y_predict2,Y_test))\n",
    "\n",
    "plt.figure(figsize=(15,10))\n",
    "plt.bar(X.columns, ab_model.feature_importances_) "
   ]
  },
  {
   "cell_type": "markdown",
   "metadata": {},
   "source": [
    "# 번외."
   ]
  },
  {
   "cell_type": "markdown",
   "metadata": {},
   "source": [
    "### Feature Imfortance\n",
    "* 중요한 변수 선별"
   ]
  },
  {
   "cell_type": "code",
   "execution_count": 21,
   "metadata": {},
   "outputs": [],
   "source": [
    "ind = ['slight_cnt', 'cctv_cnt', 'fire_cnt', 'car_cnt', \n",
    "       'popu_sx_rate', 'local_sx_rate', 'foreigner_all',\n",
    "       'foreigner_M', 'foreigner_F', 'bhood', 'nl_cnt']"
   ]
  },
  {
   "cell_type": "code",
   "execution_count": 24,
   "metadata": {
    "scrolled": false
   },
   "outputs": [
    {
     "name": "stderr",
     "output_type": "stream",
     "text": [
      "C:\\Users\\hrd\\Anaconda3\\lib\\site-packages\\sklearn\\utils\\validation.py:72: DataConversionWarning: A column-vector y was passed when a 1d array was expected. Please change the shape of y to (n_samples, ), for example using ravel().\n",
      "  return f(**kwargs)\n"
     ]
    },
    {
     "name": "stdout",
     "output_type": "stream",
     "text": [
      "ab_model2_RMSE:  0.47440993553557465\n",
      "0.9775575546487543\n",
      "0.4642006312557111\n"
     ]
    },
    {
     "data": {
      "image/png": "[encoded data removed]",
      "text/plain": [
       "<Figure size 1080x720 with 1 Axes>"
      ]
     },
     "metadata": {},
     "output_type": "display_data"
    }
   ],
   "source": [
    "ab_model2 = AdaBoostRegressor(base_estimator=None, n_estimators=50, random_state=113)\n",
    "ab_model2.fit(X_train[ind], Y_train)\n",
    "\n",
    "# 피쳐중요도 값 내림차순 \n",
    "d = {'ind': ind, 'feature_importances_': ab_model2.feature_importances_}\n",
    "fi_df = pd.DataFrame(data=d).sort_values(by='feature_importances_', ascending=True)\n",
    "fi_df\n",
    "\n",
    "# 가로 막대 그래프 그리기 \n",
    "plt.figure(figsize=(15,10))\n",
    "plt.barh(fi_df.ind, fi_df.feature_importances_) \n",
    "\n",
    "print('ab_model2_RMSE: ', rmse(ab_model2.predict(X_train[ind]), Y_train))\n",
    "print(ab_model2.score(X_train[ind], Y_train)) \n",
    "print(ab_model2.score(X_test[ind], Y_test))"
   ]
  },
  {
   "cell_type": "code",
   "execution_count": 28,
   "metadata": {},
   "outputs": [],
   "source": [
    "## y 예측값 \n",
    "Y_hat = ab_model2.predict(X_train[ind])"
   ]
  },
  {
   "cell_type": "markdown",
   "metadata": {},
   "source": [
    "## Performance Evaluation"
   ]
  },
  {
   "cell_type": "markdown",
   "metadata": {},
   "source": [
    "#### RMSE"
   ]
  },
  {
   "cell_type": "code",
   "execution_count": 193,
   "metadata": {
    "scrolled": true
   },
   "outputs": [
    {
     "name": "stdout",
     "output_type": "stream",
     "text": [
      "LinearRegression() :  1.273\n",
      "RandomForestRegressor() :  0.792\n",
      "Lasso() :  1.346\n",
      "SVR(C=10) :  2.161\n",
      "test_RMSE:  1.15210567275123\n"
     ]
    }
   ],
   "source": [
    "from sklearn.metrics import mean_squared_error as mse\n",
    "\n",
    "def rmse(x,y):\n",
    "    return np.sqrt(mse(x,y))\n",
    "\n",
    "## train_X 데이터로 y예측\n",
    "model_list = [lr_model, rf_model, ls_model, sv_model]\n",
    "for i in range(len(model_list)):\n",
    "    print('{}'.format(model_list[i]),': ', np.round(rmse(model_list[i].predict(X),y), 3))\n",
    "\n",
    "# sv_model.get_params()\n",
    "\n",
    "## test_X 데이터로 y 예측\n",
    "print('test_RMSE: ', rmse(ab_model.predict(X_test), y))"
   ]
  },
  {
   "cell_type": "code",
   "execution_count": 179,
   "metadata": {},
   "outputs": [
    {
     "name": "stdout",
     "output_type": "stream",
     "text": [
      "['overall_q5'] MSE: 1.15210567275123\n"
     ]
    }
   ],
   "source": [
    "print(Y_test_ind, \"MSE:\", mse(y, y_predict2)**0.5)"
   ]
  },
  {
   "cell_type": "markdown",
   "metadata": {},
   "source": [
    "#### R2"
   ]
  },
  {
   "cell_type": "code",
   "execution_count": 199,
   "metadata": {},
   "outputs": [],
   "source": [
    "## R2 직접 구하기 \n",
    "tyl = []\n",
    "ttl = []\n",
    "\n",
    "for i in range(df.shape[0]):\n",
    "    ty = real_df[' rob_satety_q1'][i] - df_pred_Y['pred_ rob_satety_q1'][i]\n",
    "    tt = real_df[' rob_satety_q1'][i] - real_df.mean()[0]\n",
    "    tyl.append(ty**2)\n",
    "    ttl.append(tt**2)\n",
    "    return 1 - (sum(tyl) / sum(ttl))"
   ]
  }
 ],
 "metadata": {
  "kernelspec": {
   "display_name": "Python 3",
   "language": "python",
   "name": "python3"
  },
  "language_info": {
   "codemirror_mode": {
    "name": "ipython",
    "version": 3
   },
   "file_extension": ".py",
   "mimetype": "text/x-python",
   "name": "python",
   "nbconvert_exporter": "python",
   "pygments_lexer": "ipython3",
   "version": "3.8.5"
  }
 },
 "nbformat": 4,
 "nbformat_minor": 4
}
